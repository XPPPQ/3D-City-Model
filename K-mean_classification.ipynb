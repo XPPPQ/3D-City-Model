{
 "cells": [
  {
   "cell_type": "code",
   "execution_count": 2,
   "id": "6b6101ad",
   "metadata": {},
   "outputs": [],
   "source": [
    "import pandas as pd\n",
    "import numpy as np"
   ]
  },
  {
   "cell_type": "code",
   "execution_count": 3,
   "id": "647880f3",
   "metadata": {},
   "outputs": [],
   "source": [
    "import random\n",
    "from Functions import  xyzrange, eigen, mean, normalise, Min, Max, best_fitting_plane, eig, std_dev, PCA"
   ]
  },
  {
   "cell_type": "code",
   "execution_count": 4,
   "id": "96b72b9d",
   "metadata": {},
   "outputs": [],
   "source": [
    "from sklearn.neighbors import KDTree\n",
    "from sklearn.neighbors import KNeighborsClassifier\n",
    "from sklearn.neighbors import NearestNeighbors\n",
    "from sklearn.cluster import KMeans\n",
    "from sklearn import preprocessing"
   ]
  },
  {
   "cell_type": "code",
   "execution_count": 5,
   "id": "b3a05484",
   "metadata": {},
   "outputs": [],
   "source": [
    "df = pd.read_csv('CentralStation_BuildingTree.csv')\n",
    "\n",
    "all_rows = df.iloc[0:len(df)][['X','Y','Z']]\n",
    "\"\"\" Create matrix of data \"\"\"\n",
    "Lt = np.array(all_rows)\n",
    "\n",
    "kdt = KDTree(all_rows, leaf_size=50, metric='euclidean') # data structure for nearest neighbour\n",
    "\n",
    "F = df.iloc[0:len(df)][['X','Y','Z','R','G','B','Intensity']]\n",
    "Ft = np.array(F)\n",
    "\n",
    "#feature lists\n",
    "\n",
    "f3 = []\n",
    "ev = []\n",
    "normies = []\n",
    "\n",
    "\n",
    "\"\"\"Calculate attribute data to feed classifier \"\"\"\n",
    "for i in range(len(df)):\n",
    "\n",
    "    dist, ind = kdt.query([Lt[i]], k=50)\n",
    "    x = []\n",
    "    y = []\n",
    "    z = []\n",
    "    Int = []\n",
    "    R = []\n",
    "    G = []\n",
    "    B = []\n",
    "    for k in range(len(ind[0])):\n",
    "        indice = ind[0][k]\n",
    "        \n",
    "        x.append(Ft[indice][0]) #'''list of xyz -cords of indices'''\n",
    "        y.append(Ft[indice][1])\n",
    "        z.append(Ft[indice][2])\n",
    "        Int.append(Ft[indice][6])\n",
    "        R.append(Ft[indice][3])\n",
    "        G.append(Ft[indice][4])\n",
    "        B.append(Ft[indice][5])\n",
    "    \n",
    "    R_normalized = preprocessing.normalize([R], norm='l2') #normalisation of rgb, intensities\n",
    "    G_normalized = preprocessing.normalize([G], norm='l2')\n",
    "    B_normalized = preprocessing.normalize([B], norm='l2')\n",
    "    Int_normalized = preprocessing.normalize([Int], norm='l2')\n",
    "    Int_std = std_dev(Int_normalized.tolist()[0]) #standard deviation of intensities\n",
    "    data = np.c_[x,y,z]\n",
    "    pt, normal = best_fitting_plane(data)\n",
    "    eigenv_x = PCA(data)[0][0]    \n",
    "    eigenv_y = PCA(data)[0][1]    \n",
    "    eigenv_z = PCA(data)[0][2]\n",
    "    ev.append([eigenv_x,eigenv_y,eigenv_z])\n",
    "\n",
    "ex = preprocessing.normalize([np.array(ev)[:,0].tolist()]) #normalisation of eigenvalues\n",
    "ey = preprocessing.normalize([np.array(ev)[:,1].tolist()])\n",
    "ez = preprocessing.normalize([np.array(ev)[:,2].tolist()])   \n",
    "\n",
    "\n",
    "for i in range(len(df)):\n",
    "    f3.append([ex[0][i],ey[0][i],ez[0][i]])"
   ]
  },
  {
   "cell_type": "code",
   "execution_count": 6,
   "id": "224f2ba7",
   "metadata": {},
   "outputs": [],
   "source": [
    "kmeans3 = KMeans(n_clusters=6, random_state=0).fit(f3)\n",
    "kmeans_labels3 = kmeans3.labels_\n",
    "labels3 = {'X': Lt[:,0], 'Y': Lt[:,1], 'Z': Lt[:,2], 'kmeans labels': kmeans_labels3}\n",
    "labels_new3 = pd.DataFrame(data = labels3)\n",
    "labels_new3.to_csv('citycenter.csv',index=None)"
   ]
  }
 ],
 "metadata": {
  "kernelspec": {
   "display_name": "Python 3 (ipykernel)",
   "language": "python",
   "name": "python3"
  },
  "language_info": {
   "codemirror_mode": {
    "name": "ipython",
    "version": 3
   },
   "file_extension": ".py",
   "mimetype": "text/x-python",
   "name": "python",
   "nbconvert_exporter": "python",
   "pygments_lexer": "ipython3",
   "version": "3.9.7"
  }
 },
 "nbformat": 4,
 "nbformat_minor": 5
}
